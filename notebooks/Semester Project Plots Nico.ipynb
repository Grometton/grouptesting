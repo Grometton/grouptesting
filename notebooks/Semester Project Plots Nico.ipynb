{
 "cells": [
  {
   "cell_type": "code",
   "execution_count": 1,
   "metadata": {},
   "outputs": [],
   "source": [
    "import grouptesting\n",
    "from grouptesting.model import *\n",
    "from grouptesting.algorithms import *\n",
    "import autograd.numpy as np\n",
    "from autograd import grad \n",
    "import matplotlib\n",
    "import matplotlib.pyplot as plt\n",
    "import seaborn as sns\n",
    "import math\n",
    "from scipy.stats import bernoulli\n",
    "from scipy.optimize import minimize, rosen, rosen_der\n",
    "from sympy import *\n",
    "\n",
    "def nCr(n,k):\n",
    "    return math.factorial(n) // math.factorial(k) // math.factorial(n - k)\n",
    "\n",
    "np.random.seed(4000)\n"
   ]
  },
  {
   "cell_type": "markdown",
   "metadata": {},
   "source": [
    "## Plot ideas:\n",
    "\n",
    "1. NCOMP vs. NDD for some q, or for three different qs (just to show empirical performance of NDD vs NCOMP) x\n",
    "2. NCOMP with an achievability bound for some q x\n",
    "4. NDD with achievability found for some q x"
   ]
  },
  {
   "cell_type": "markdown",
   "metadata": {},
   "source": [
    "### 2. NCOMP with an achievability bound for some q"
   ]
  },
  {
   "cell_type": "code",
   "execution_count": 11,
   "metadata": {},
   "outputs": [
    {
     "name": "stdout",
     "output_type": "stream",
     "text": [
      "l-1, u-1: -0.3228129199218749 5.263980490722658\n",
      "T:  1\n",
      "T:  43\n",
      "T:  84\n",
      "T:  126\n",
      "T:  168\n",
      "T:  209\n",
      "T:  251\n",
      "T:  292\n",
      "T:  334\n",
      "T:  376\n",
      "T:  417\n",
      "T:  459\n",
      "T:  500\n",
      "T:  542\n",
      "T:  584\n",
      "T:  625\n",
      "T:  667\n",
      "T:  709\n",
      "T:  750\n",
      "T:  792\n",
      "T:  834\n",
      "T:  875\n",
      "T:  917\n",
      "T:  958\n",
      "T:  1000\n"
     ]
    },
    {
     "name": "stderr",
     "output_type": "stream",
     "text": [
      "The PostScript backend does not support transparency; partially transparent artists will be rendered opaque.\n",
      "The PostScript backend does not support transparency; partially transparent artists will be rendered opaque.\n"
     ]
    },
    {
     "data": {
      "image/png": "[encoded data removed]",
      "text/plain": [
       "<Figure size 432x288 with 1 Axes>"
      ]
     },
     "metadata": {
      "needs_background": "light"
     },
     "output_type": "display_data"
    }
   ],
   "source": [
    "# Define initial parameters\n",
    "num_tests = 300\n",
    "n = 1000 # population size\n",
    "theta = 0.15\n",
    "C = 2\n",
    "n_theta = C * (n**theta)\n",
    "k = round(n_theta) # number of infected\n",
    "alpha = 0.5\n",
    "p = alpha/k # Bernoulli test design probability parameter\n",
    "eta = 0.001\n",
    "q_results = []\n",
    "\n",
    "############ RUN EXPERIMENT #####################\n",
    "for q in [0.10]:\n",
    "    NCOMP_ber_acc = []\n",
    "    \n",
    "    ############## Achievable bound 1 for T ################\n",
    "    ## Choose delta according to z\n",
    "    T_array = np.linspace(1, n, 25)\n",
    "    z = ((1- alpha/(k) * (1-q))**(k-1) + (1/q)*(1 - alpha/(k) * (1-q))**k) / 2\n",
    "    l = (1 - alpha / k * (1-q))**(k-1)\n",
    "    u = (1 - alpha / k * (1-q))**(k) * (1/q)\n",
    "    print(\"l-1, u-1:\", l-1, u-1)\n",
    "    delta = z - 1\n",
    "    assert (l-1) < delta < (u-1)\n",
    "    \n",
    "    ########### Achievability Bound 2 Method 2 #######\n",
    "    eta_1, alpha_1, theta_1, q_1 = eta, alpha, theta, q\n",
    "    n_1 = n\n",
    "    n_theta_1 = n_theta\n",
    "    d_1 = round(n_theta_1)\n",
    "    eps = 1e-12\n",
    "\n",
    "    # Objective\n",
    "    Tminus = lambda delta_1: ((1 + eta_1) * theta_1 * (1/(q_1**2)) * (d_1) * (np.log(n_1))) / (alpha_1 * (1 - np.exp(-2)) * (eps + (1+delta_1) - (1- alpha_1/(d_1) * (1-q_1))**(d_1-1))**2)\n",
    "    Tplus = lambda delta_1: ((1 + eta_1) * (1/(q_1**2)) * (d_1) * (np.log(n_1))) / (alpha_1 * (1 - np.exp(-2)) * (eps + (1+delta_1) - (1/q_1) * (1- alpha_1/(d_1) * (1-q_1))**d_1)**2)\n",
    "    ff = lambda delta_1: max(Tminus(delta_1), Tplus(delta_1))\n",
    "\n",
    "    # Constraints\n",
    "    l = (1 - alpha_1 / d_1 * (1-q_1))**(d_1-1)\n",
    "    u = (1 - alpha_1 / d_1 * (1-q_1))**(d_1) * (1/q_1)\n",
    "    bound = (l-1, u-1)\n",
    "\n",
    "    x0 = delta\n",
    "    options={'disp': None, 'maxcor': 100, 'ftol': 1e-14, 'gtol': 1e-012, 'eps': 1e-08, 'maxfun': 15000, 'maxiter': 15000, 'iprint': 1, 'maxls': 20}\n",
    "    gff = grad(ff)\n",
    "    res = minimize(ff, x0, tol=1e-12, bounds=[bound], jac=gff)\n",
    "    achiev_bound = res.fun[0]\n",
    "\n",
    "    ###### Main Experiment loop #####\n",
    "    \n",
    "    for T in T_array:\n",
    "        NCOMP_ber_error = []\n",
    "        NDD_ber_error = []\n",
    "        COMP_ber_error = []\n",
    "        print(\"T: \", int(round(T)))\n",
    "        for test in range(num_tests): \n",
    "            sigma = D(n, k) # Generate the vector of defectives\n",
    "            X_ber = Ber(n, int(round(T)), p)\n",
    "            y_ber = Y(dilution_noise(X_ber, q), sigma)\n",
    "\n",
    "            # NCOMP - Bernoulli\n",
    "            sigma_hat_ber = NCOMP(X_ber, y_ber, q=q, delta=delta)\n",
    "            err = error(sigma, sigma_hat_ber)\n",
    "            NCOMP_ber_error.append(error(sigma, sigma_hat_ber))\n",
    "\n",
    "        acc = (num_tests - np.sum(np.array(NCOMP_ber_error))) / num_tests\n",
    "        NCOMP_ber_acc.append(acc)\n",
    "\n",
    "            \n",
    "    ################ Plot ####################\n",
    "    PAL = ['#fef0d9','#fdcc8a','#fc8d59','#d7301f']\n",
    "    plt.plot(T_array, NCOMP_ber_acc,'o-', c=PAL[-2], label=\"NCOMP - q = \" + str(round(q, 2)))\n",
    "\n",
    "#     use LaTeX fonts in the plot\n",
    "    plt.rc('text', usetex=True)\n",
    "    plt.rc('font', family='serif')\n",
    "    matplotlib.rcParams['text.usetex'] = True\n",
    "\n",
    "    plt.axvline(x=float(achiev_bound), ymin=0, ymax=1, color='black', linestyle='dotted', label=\"Achievability Bound\", linewidth=2)\n",
    "    plt.xticks(ticks=[10, round((achiev_bound)), round(n)])\n",
    "    plt.yticks(ticks=[0.0, 1.0])\n",
    "    plt.xlabel(r'Number of tests (T)', fontsize=11)\n",
    "    plt.ylabel(r'Success Probability', fontsize=11)\n",
    "    plt.legend()\n",
    "    plt.savefig('plots/NCOMP Report Nico 2 today' + str(round(C, 2)) + 'qs, q = ' + str(round(q, 2)) + ', delta = ' + str(round(delta, 2)) + ', n = ' + str(n) + ', theta = ' + str(round(theta, 2)) + '.png')\n",
    "    plt.savefig('plots/NCOMP Report Nico 2 today' + str(round(C, 2)) + 'qs, q = ' + str(round(q, 2)) + ', delta = ' + str(round(delta, 2)) + ', n = ' + str(n) + ', theta = ' + str(round(theta, 2)) + '.eps')\n",
    "    plt.savefig('plots/NCOMP Report Nico 2 today' + str(round(C, 2)) + 'qs, q = ' + str(round(q, 2)) + ', delta = ' + str(round(delta, 2)) + ', n = ' + str(n) + ', theta = ' + str(round(theta, 2)) + '.pdf')\n",
    "    plt.show()"
   ]
  },
  {
   "cell_type": "code",
   "execution_count": 12,
   "metadata": {},
   "outputs": [
    {
     "name": "stderr",
     "output_type": "stream",
     "text": [
      "The PostScript backend does not support transparency; partially transparent artists will be rendered opaque.\n",
      "The PostScript backend does not support transparency; partially transparent artists will be rendered opaque.\n"
     ]
    },
    {
     "data": {
      "image/png": "[encoded data removed]",
      "text/plain": [
       "<Figure size 432x288 with 1 Axes>"
      ]
     },
     "metadata": {
      "needs_background": "light"
     },
     "output_type": "display_data"
    }
   ],
   "source": [
    "## Redo the plot because the latex font only comes in the second time you save it for some reason.\n",
    "PAL = ['#fef0d9','#fdcc8a','#fc8d59','#d7301f'] \n",
    "plt.plot(T_array, NCOMP_ber_acc,'o-', c=PAL[-2], label=\"NCOMP - q = \" + str(round(q, 2)))\n",
    "\n",
    "#     use LaTeX fonts in the plot\n",
    "plt.rc('text', usetex=True)\n",
    "plt.rc('font', family='serif')\n",
    "matplotlib.rcParams['text.usetex'] = True\n",
    "\n",
    "plt.axvline(x=float(achiev_bound), ymin=0, ymax=1, color='black', linestyle='dotted', label=\"Achievability Bound\", linewidth=2)\n",
    "plt.xticks(ticks=[10, round(float(achiev_bound)), round(n)])\n",
    "plt.yticks(ticks=[0.0, 1.0])\n",
    "plt.xlabel(r'Number of tests (T)', fontsize=11)\n",
    "plt.ylabel(r'Success Probability', fontsize=11)\n",
    "plt.legend()\n",
    "plt.savefig('plots/NCOMP Report Nico 2 today' + str(round(C, 2)) + 'qs, q = ' + str(round(q, 2)) + ', delta = ' + str(round(delta, 2)) + ', n = ' + str(n) + ', theta = ' + str(round(theta, 2)) + '.png')\n",
    "plt.savefig('plots/NCOMP Report Nico 2 today' + str(round(C, 2)) + 'qs, q = ' + str(round(q, 2)) + ', delta = ' + str(round(delta, 2)) + ', n = ' + str(n) + ', theta = ' + str(round(theta, 2)) + '.eps')\n",
    "plt.savefig('plots/NCOMP Report Nico 2 today' + str(round(C, 2)) + 'qs, q = ' + str(round(q, 2)) + ', delta = ' + str(round(delta, 2)) + ', n = ' + str(n) + ', theta = ' + str(round(theta, 2)) + '.pdf')\n",
    "plt.show()"
   ]
  },
  {
   "cell_type": "markdown",
   "metadata": {},
   "source": [
    "### 3. NDD with Achievability bound for some q"
   ]
  },
  {
   "cell_type": "code",
   "execution_count": 13,
   "metadata": {},
   "outputs": [
    {
     "name": "stdout",
     "output_type": "stream",
     "text": [
      "q:  0.1\n",
      "T:  1\n",
      "T:  43\n",
      "T:  84\n",
      "T:  126\n",
      "T:  168\n",
      "T:  209\n",
      "T:  251\n",
      "T:  292\n",
      "T:  334\n",
      "T:  376\n",
      "T:  417\n",
      "T:  459\n",
      "T:  500\n",
      "T:  542\n",
      "T:  584\n",
      "T:  625\n",
      "T:  667\n",
      "T:  709\n",
      "T:  750\n",
      "T:  792\n",
      "T:  834\n",
      "T:  875\n",
      "T:  917\n",
      "T:  958\n",
      "T:  1000\n"
     ]
    },
    {
     "name": "stderr",
     "output_type": "stream",
     "text": [
      "The PostScript backend does not support transparency; partially transparent artists will be rendered opaque.\n",
      "The PostScript backend does not support transparency; partially transparent artists will be rendered opaque.\n"
     ]
    },
    {
     "data": {
      "image/png": "[encoded data removed]",
      "text/plain": [
       "<Figure size 432x288 with 1 Axes>"
      ]
     },
     "metadata": {
      "needs_background": "light"
     },
     "output_type": "display_data"
    }
   ],
   "source": [
    "# Define initial para200\n",
    "n = 1000 # population size\n",
    "theta = 0.15\n",
    "C = 2\n",
    "n_theta = C * (n**theta)\n",
    "k = round(n_theta) # number of infected\n",
    "eta = 0.001\n",
    "q_results = []\n",
    "\n",
    "np.random.seed(23455324)\n",
    "\n",
    "############ RUN EXPERIMENT #####################\n",
    "for q in [0.10]:\n",
    "    alpha = 0.5\n",
    "    p = alpha/k # Bernoulli test design probability parameter\n",
    "    print(\"q: \", q)\n",
    "    NDD_ber_acc = []\n",
    "    NCOMP_ber_acc = []\n",
    "    \n",
    "    T_array = np.linspace(1, n, 25)\n",
    "    pi_init = (q+0.07)\n",
    "    \n",
    "    ########### Achievability Bound 2 Method 2 #######\n",
    "    eta_1, alpha_1, theta_1, q_1 = eta, alpha, theta, q\n",
    "    n_1 = n\n",
    "    n_theta_1 = n_theta\n",
    "    d_1 = round(n_theta_1)\n",
    "    eps = 1e-12\n",
    "    \n",
    "    # Objective\n",
    "    D_ = lambda _eps: (_eps)*np.log(_eps) - _eps + 1\n",
    "    T1 = lambda pi: (d_1 * np.log(d_1) * np.exp(alpha_1 * (1-q_1)) / ((alpha_1 * q_1)*D_(pi / (q_1 * np.exp(-alpha_1 * (1-q_1))))))\n",
    "    T2 = lambda pi: ((1 - (theta_1 - eps)) * d_1 * np.log(n) * np.exp(alpha_1*(1-q_1)) / (alpha_1 * D_(pi * np.exp(alpha_1 * (1-q_1)))))\n",
    "    T3 = lambda pi: (np.exp(alpha_1) * d_1 * np.log(d_1) / (alpha_1 * (1-q_1)))\n",
    "    ff = lambda pi: max(T1(pi), T2(pi), T3(pi))\n",
    "    \n",
    "    bound = (q, np.exp(-alpha * (1-q))-0.01)\n",
    "\n",
    "    x0 = pi_init\n",
    "    gff = grad(ff)\n",
    "    res = minimize(ff, x0, tol=1e-12, bounds=[bound], jac=gff)\n",
    "    achiev_bound = res.fun[0]\n",
    "    pi_NDD = res.x[0]\n",
    "    assert q <= pi_NDD <= 1\n",
    "\n",
    "    ###### Main Experiment loop #####\n",
    "    for T in T_array:\n",
    "        NDD_ber_error = []\n",
    "        DD_ber_error = []\n",
    "        NCOMP_ber_error = []\n",
    "        print(\"T: \", int(round(T)))\n",
    "        for test in range(num_tests): \n",
    "            sigma = D(n, k) # Generate the vector of defectives\n",
    "            X_ber = Ber(n, int(round(T)), p)\n",
    "            y_ber = Y(dilution_noise(X_ber, q), sigma)\n",
    "            \n",
    "            # NDD - Bernoulli\n",
    "            sigma_hat_ber = NDD(X_ber, y_ber, pi=(pi_NDD), alpha=alpha, T = T, d = k)\n",
    "            err = error(sigma, sigma_hat_ber)\n",
    "            NDD_ber_error.append(error(sigma, sigma_hat_ber))\n",
    "\n",
    "        acc = (num_tests - np.sum(np.array(NDD_ber_error))) / num_tests\n",
    "        NDD_ber_acc.append(acc)\n",
    "            \n",
    "    ################ Plot ####################\n",
    "    PAL = ['#f1eef6','#bdc9e1','#74a9cf','#0570b0']\n",
    "    plt.plot(T_array, NDD_ber_acc,'o-', c=PAL[-1], label=\"NDD - q = \" + str(round(q, 2)))\n",
    "\n",
    "    # use LaTeX fonts in the plot\n",
    "    plt.rc('text', usetex=True)\n",
    "    plt.rc('font', family='serif')\n",
    "    matplotlib.rcParams['text.usetex'] = True\n",
    "\n",
    "    plt.axvline(x=ff(pi_NDD), ymin=0, ymax=1, color='black', linestyle='dotted', label=\"Achievability bound\", linewidth=3)\n",
    "    plt.xticks(ticks=[round(10.0), round(ff(pi_NDD)), round(n)])\n",
    "    plt.yticks(ticks=[0.0, 1.0])\n",
    "    plt.xlabel(r'Number of tests (T)', fontsize=11)\n",
    "    plt.ylabel(r'Success Probability', fontsize=11)\n",
    "    plt.legend()\n",
    "    plt.savefig('plots/NDD Report Nico 2 today' + str(round(C, 2)) + 'qs, q = ' + str(round(q, 2)) + ', pi = ' + str(round(pi_NDD, 2)) + ', n = ' + str(n) + ', theta = ' + str(round(theta, 2)) + '.png')\n",
    "    plt.savefig('plots/NDD Report Nico 2 today' + str(round(C, 2)) + 'qs, q = ' + str(round(q, 2)) + ', pi = ' + str(round(pi_NDD, 2)) + ', n = ' + str(n) + ', theta = ' + str(round(theta, 2)) + '.eps')\n",
    "    plt.savefig('plots/NDD Report Nico 2 today' + str(round(C, 2)) + 'qs, q = ' + str(round(q, 2)) + ', pi = ' + str(round(pi_NDD, 2)) + ', n = ' + str(n) + ', theta = ' + str(round(theta, 2)) + '.pdf')\n",
    "    plt.show()"
   ]
  },
  {
   "cell_type": "markdown",
   "metadata": {},
   "source": [
    "### 1. NDD vs NCOMP for some/different qs"
   ]
  },
  {
   "cell_type": "code",
   "execution_count": null,
   "metadata": {},
   "outputs": [],
   "source": [
    "# Define initial parameters\n",
    "num_tests = 300                                                                                                                                                                                                 \n",
    "n = 1000 # population size\n",
    "theta = 0.15\n",
    "C = 2\n",
    "n_theta = C * (n**theta)\n",
    "k = round(n_theta) # number of infected\n",
    "eta = 0.001\n",
    "q_results = []\n",
    "\n",
    "############ RUN EXPERIMENT #####################\n",
    "for q in [0.000001, 0.15, 0.35, 0.50]:\n",
    "    alpha = 0.5\n",
    "    p = alpha/k # Bernoulli test design probability parameter\n",
    "    print(\"q: \", q)\n",
    "    NDD_ber_acc = []\n",
    "    DD_ber_acc = []\n",
    "    NCOMP_ber_acc = []\n",
    "    \n",
    "    T_array = np.linspace(1, n, 25)\n",
    "    pi_init = (q+0.07)\n",
    "    \n",
    "    ########### Achievability Bound 2 Method 2 #######\n",
    "    eta_1, alpha_1, theta_1, q_1 = eta, alpha, theta, q\n",
    "    n_1 = n\n",
    "    n_theta_1 = n_theta\n",
    "    d_1 = round(n_theta_1)\n",
    "    eps = 1e-12\n",
    "    \n",
    "    # Objective\n",
    "    D_ = lambda _eps: (_eps)*np.log(_eps) - _eps + 1\n",
    "    T1 = lambda pi: (d_1 * np.log(d_1) * np.exp(alpha_1 * (1-q_1)) / ((alpha_1 * q_1)*D_(pi / (q_1 * np.exp(-alpha_1 * (1-q_1))))))\n",
    "    T2 = lambda pi: ((1 - (theta_1 - eps)) * d_1 * np.log(n) * np.exp(alpha_1*(1-q_1)) / (alpha_1 * D_(pi * np.exp(alpha_1 * (1-q_1)))))\n",
    "    T3 = lambda pi: (np.exp(alpha_1) * d_1 * np.log(d_1) / (alpha_1 * (1-q_1)))\n",
    "    ff = lambda pi: max(T1(pi), T2(pi), T3(pi))\n",
    "    \n",
    "    bound = (q, np.exp(-alpha * (1-q))-0.01)\n",
    "    x0 = pi_init\n",
    "    gff = grad(ff)\n",
    "    res = minimize(ff, x0, tol=1e-6, bounds=[bound], jac=gff)\n",
    "    achiev_bound = res.fun[0]\n",
    "    pi_NDD = res.x[0]\n",
    "    assert q <= pi_NDD <= 1\n",
    "\n",
    "    ###### Main Experiment loop #####\n",
    "    for T in T_array:\n",
    "        NDD_ber_error = []\n",
    "        DD_ber_error = []\n",
    "        NCOMP_ber_error = []\n",
    "        print(\"T: \", int(round(T)))\n",
    "        for test in range(num_tests): \n",
    "            sigma = D(n, k) # Generate the vector of defectives\n",
    "            X_ber = Ber(n, int(round(T)), p)\n",
    "            y_ber = Y(dilution_noise(X_ber, q), sigma)\n",
    "            \n",
    "            # NCOMP - Bernoulli\n",
    "            # Choose delta according to z\n",
    "            z = ((1- alpha/(k) * (1-q))**(k-1) + (1/q)*(1 - alpha/(k) * (1-q))**k) / 2\n",
    "            l = (1 - alpha / k * (1-q))**(k-1)\n",
    "            u = (1 - alpha / k * (1-q))**(k) * (1/q)\n",
    "            delta_NCOMP = z - 1\n",
    "            assert (l-1) < delta_NCOMP < (u-1) \n",
    "            sigma_hat_ber = NCOMP(X_ber, y_ber, q=q, delta=delta_NCOMP)\n",
    "            err = error(sigma, sigma_hat_ber)\n",
    "            NCOMP_ber_error.append(error(sigma, sigma_hat_ber))\n",
    "            \n",
    "            # NDD - Bernoulli\n",
    "            sigma_hat_ber = NDD(X_ber, y_ber, pi=(pi_NDD), alpha=alpha, T = T, d = k)\n",
    "            err = error(sigma, sigma_hat_ber)\n",
    "            NDD_ber_error.append(error(sigma, sigma_hat_ber))\n",
    "\n",
    "        acc = (num_tests - np.sum(np.array(NDD_ber_error))) / num_tests\n",
    "        NDD_ber_acc.append(acc)\n",
    "        acc = (num_tests - np.sum(np.array(NCOMP_ber_error))) / num_tests\n",
    "        NCOMP_ber_acc.append(acc)\n",
    "        \n",
    "    q_results.append([q, T_array, NCOMP_ber_acc, NDD_ber_acc])"
   ]
  },
  {
   "cell_type": "code",
   "execution_count": 9,
   "metadata": {},
   "outputs": [
    {
     "name": "stdout",
     "output_type": "stream",
     "text": [
      "0\n",
      "1\n",
      "2\n",
      "3\n"
     ]
    },
    {
     "data": {
      "image/png": "[encoded data removed]",
      "text/plain": [
       "<Figure size 432x288 with 1 Axes>"
      ]
     },
     "metadata": {
      "needs_background": "light"
     },
     "output_type": "display_data"
    }
   ],
   "source": [
    "PAL1 = ['#eff3ff','#bdd7e7','#6baed6','#3182bd','#08519c']\n",
    "PAL2 = ['#feedde','#fdbe85','#fd8d3c','#e6550d','#a63603']\n",
    "for i in range(len(q_results)):\n",
    "    print(i)\n",
    "    q, T_array, NCOMP_ber_acc, NDD_ber_acc = q_results[i]\n",
    "    \n",
    "    if (i==0):\n",
    "        plt.plot(T_array, NDD_ber_acc,'o-', c=PAL1[-1-i], label=\"NDD - q = 0.0 to 0.5\", linewidth=2)\n",
    "        plt.plot(T_array, NCOMP_ber_acc,'--', c=PAL2[-1-i], label=\"NCOMP - q = 0.0 to 0.5\", linewidth=2)\n",
    "    else:\n",
    "        plt.plot(T_array, NDD_ber_acc,'o-', c=PAL1[-1-i], linewidth=2)\n",
    "        plt.plot(T_array, NCOMP_ber_acc,'--', c=PAL2[-1-i], linewidth=2)\n",
    "        \n",
    "    # use LaTeX fonts in the plot\n",
    "    plt.rc('text', usetex=True)\n",
    "    plt.rc('font', family='serif')\n",
    "    matplotlib.rcParams['text.usetex'] = True\n",
    "\n",
    "    plt.yticks(ticks=[0.0, 1.0])\n",
    "    plt.xlabel(r'Number of tests (T)', fontsize=11)\n",
    "    plt.ylabel(r'Success Probability', fontsize=11)\n",
    "\n",
    "plt.legend()\n",
    "plt.savefig('plots/NCOMP vs NDD Report Nico 2 today' + str(round(C, 2)) + 'qs, q = ' + str(round(q, 2)) + ', delta = ' + str(round(delta, 2)) + ', n = ' + str(n) + ', theta = ' + str(round(theta, 2)) + '.png')\n",
    "plt.savefig('plots/NCOMP vs NDD Report Nico 2 today' + str(round(C, 2)) + 'qs, q = ' + str(round(q, 2)) + ', delta = ' + str(round(delta, 2)) + ', n = ' + str(n) + ', theta = ' + str(round(theta, 2)) + '.pdf')\n",
    "plt.show()"
   ]
  },
  {
   "cell_type": "code",
   "execution_count": null,
   "metadata": {},
   "outputs": [],
   "source": []
  }
 ],
 "metadata": {
  "kernelspec": {
   "display_name": "Python 3",
   "language": "python",
   "name": "python3"
  },
  "language_info": {
   "codemirror_mode": {
    "name": "ipython",
    "version": 3
   },
   "file_extension": ".py",
   "mimetype": "text/x-python",
   "name": "python",
   "nbconvert_exporter": "python",
   "pygments_lexer": "ipython3",
   "version": "3.6.10"
  }
 },
 "nbformat": 4,
 "nbformat_minor": 4
}
